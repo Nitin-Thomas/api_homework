{
 "cells": [
  {
   "cell_type": "markdown",
   "metadata": {},
   "source": [
    "# Unit 5 - Financial Planning"
   ]
  },
  {
   "cell_type": "code",
   "execution_count": 1,
   "metadata": {},
   "outputs": [],
   "source": [
    "# Initial imports\n",
    "import os\n",
    "import requests\n",
    "import pandas as pd\n",
    "from dotenv import load_dotenv\n",
    "import alpaca_trade_api as tradeapi\n",
    "from MCForecastTools import MCSimulation\n",
    "import json\n",
    "import numpy as np\n",
    "\n",
    "\n",
    "\n",
    "%matplotlib inline"
   ]
  },
  {
   "cell_type": "code",
   "execution_count": 2,
   "metadata": {},
   "outputs": [
    {
     "data": {
      "text/plain": [
       "True"
      ]
     },
     "execution_count": 2,
     "metadata": {},
     "output_type": "execute_result"
    }
   ],
   "source": [
    "# Load .env enviroment variables\n",
    "load_dotenv()"
   ]
  },
  {
   "cell_type": "markdown",
   "metadata": {},
   "source": [
    "## Part 1 - Personal Finance Planner"
   ]
  },
  {
   "cell_type": "markdown",
   "metadata": {},
   "source": [
    "### Collect Crypto Prices Using the `requests` Library"
   ]
  },
  {
   "cell_type": "code",
   "execution_count": 3,
   "metadata": {},
   "outputs": [
    {
     "data": {
      "text/html": [
       "<div>\n",
       "<style scoped>\n",
       "    .dataframe tbody tr th:only-of-type {\n",
       "        vertical-align: middle;\n",
       "    }\n",
       "\n",
       "    .dataframe tbody tr th {\n",
       "        vertical-align: top;\n",
       "    }\n",
       "\n",
       "    .dataframe thead th {\n",
       "        text-align: right;\n",
       "    }\n",
       "</style>\n",
       "<table border=\"1\" class=\"dataframe\">\n",
       "  <thead>\n",
       "    <tr style=\"text-align: right;\">\n",
       "      <th></th>\n",
       "      <th>QTY</th>\n",
       "    </tr>\n",
       "  </thead>\n",
       "  <tbody>\n",
       "    <tr>\n",
       "      <th>BTC</th>\n",
       "      <td>1.2</td>\n",
       "    </tr>\n",
       "    <tr>\n",
       "      <th>ETH</th>\n",
       "      <td>5.3</td>\n",
       "    </tr>\n",
       "  </tbody>\n",
       "</table>\n",
       "</div>"
      ],
      "text/plain": [
       "     QTY\n",
       "BTC  1.2\n",
       "ETH  5.3"
      ]
     },
     "execution_count": 3,
     "metadata": {},
     "output_type": "execute_result"
    }
   ],
   "source": [
    "# Set current amount of crypto assets\n",
    "crypto_asset_data = {\n",
    "    \"QTY\": [1.2, 5.3]\n",
    "}\n",
    "\n",
    "# Set the tickers\n",
    "tickers = [\"BTC\", \"ETH\"]\n",
    "\n",
    "# Create the shares DataFrame with `tickers` as index\n",
    "df_crypto_asset = pd.DataFrame(crypto_asset_data, index=tickers)\n",
    "\n",
    "# Display shares data\n",
    "df_crypto_asset"
   ]
  },
  {
   "cell_type": "code",
   "execution_count": 4,
   "metadata": {},
   "outputs": [],
   "source": [
    "# Crypto API URLs\n",
    "btc_url = \"https://api.alternative.me/v2/ticker/Bitcoin/?convert=CAD\"\n",
    "eth_url = \"https://api.alternative.me/v2/ticker/Ethereum/?convert=CAD\""
   ]
  },
  {
   "cell_type": "code",
   "execution_count": 5,
   "metadata": {},
   "outputs": [
    {
     "name": "stdout",
     "output_type": "stream",
     "text": [
      "{\n",
      "    \"data\": {\n",
      "        \"1\": {\n",
      "            \"id\": 1,\n",
      "            \"name\": \"Bitcoin\",\n",
      "            \"symbol\": \"BTC\",\n",
      "            \"website_slug\": \"bitcoin\",\n",
      "            \"rank\": 1,\n",
      "            \"circulating_supply\": 18892556,\n",
      "            \"total_supply\": 18892556,\n",
      "            \"max_supply\": 21000000,\n",
      "            \"quotes\": {\n",
      "                \"USD\": {\n",
      "                    \"price\": 48958.0,\n",
      "                    \"volume_24h\": 31911473416,\n",
      "                    \"market_cap\": 924779748100,\n",
      "                    \"percentage_change_1h\": -0.325765594443383,\n",
      "                    \"percentage_change_24h\": -0.387590124960734,\n",
      "                    \"percentage_change_7d\": -14.4660215859535,\n",
      "                    \"percent_change_1h\": -0.325765594443383,\n",
      "                    \"percent_change_24h\": -0.387590124960734,\n",
      "                    \"percent_change_7d\": -14.4660215859535\n",
      "                },\n",
      "                \"CAD\": {\n",
      "                    \"price\": 62793.5308,\n",
      "                    \"volume_24h\": 40929655803.3616,\n",
      "                    \"market_cap\": 1186122504913.06,\n",
      "                    \"percent_change_1h\": -0.325765594443383,\n",
      "                    \"percent_change_24h\": -0.387590124960734,\n",
      "                    \"percent_change_7d\": -14.4660215859535\n",
      "                }\n",
      "            },\n",
      "            \"last_updated\": 1638760947\n",
      "        }\n",
      "    },\n",
      "    \"metadata\": {\n",
      "        \"timestamp\": 1638760947,\n",
      "        \"num_cryptocurrencies\": 3105,\n",
      "        \"error\": null\n",
      "    }\n",
      "}\n",
      "{\n",
      "    \"data\": {\n",
      "        \"1027\": {\n",
      "            \"id\": 1027,\n",
      "            \"name\": \"Ethereum\",\n",
      "            \"symbol\": \"ETH\",\n",
      "            \"website_slug\": \"ethereum\",\n",
      "            \"rank\": 2,\n",
      "            \"circulating_supply\": 118623298,\n",
      "            \"total_supply\": 118623298,\n",
      "            \"max_supply\": 0,\n",
      "            \"quotes\": {\n",
      "                \"USD\": {\n",
      "                    \"price\": 4158.33,\n",
      "                    \"volume_24h\": 38748764637,\n",
      "                    \"market_cap\": 493172107087,\n",
      "                    \"percentage_change_1h\": -0.171042681222898,\n",
      "                    \"percentage_change_24h\": 0.333807192466434,\n",
      "                    \"percentage_change_7d\": -3.07134788129546,\n",
      "                    \"percent_change_1h\": -0.171042681222898,\n",
      "                    \"percent_change_24h\": 0.333807192466434,\n",
      "                    \"percent_change_7d\": -3.07134788129546\n",
      "                },\n",
      "                \"CAD\": {\n",
      "                    \"price\": 5333.474058,\n",
      "                    \"volume_24h\": 49699165523.4162,\n",
      "                    \"market_cap\": 632542544549.786,\n",
      "                    \"percent_change_1h\": -0.171042681222898,\n",
      "                    \"percent_change_24h\": 0.333807192466434,\n",
      "                    \"percent_change_7d\": -3.07134788129546\n",
      "                }\n",
      "            },\n",
      "            \"last_updated\": 1638760890\n",
      "        }\n",
      "    },\n",
      "    \"metadata\": {\n",
      "        \"timestamp\": 1638760890,\n",
      "        \"num_cryptocurrencies\": 3105,\n",
      "        \"error\": null\n",
      "    }\n",
      "}\n"
     ]
    }
   ],
   "source": [
    "# Fetch current BTC price\n",
    "btc_response_data = requests.get(btc_url)\n",
    "\n",
    "# Fetch current ETH price\n",
    "eth_response_data = requests.get(eth_url)\n",
    "\n",
    "#storing requests content in variables\n",
    "btc_response_content = btc_response_data.content\n",
    "btc_data = btc_response_data.json()\n",
    "\n",
    "eth_response_content = eth_response_data.content\n",
    "eth_data = eth_response_data.json()\n",
    "\n",
    "# Using json.dumps with argument indent=4 to format and view fetched data\n",
    "print(json.dumps(btc_data, indent=4))\n",
    "print(json.dumps(eth_data, indent=4))"
   ]
  },
  {
   "cell_type": "code",
   "execution_count": 6,
   "metadata": {},
   "outputs": [],
   "source": [
    "#df_crypto_price = pd.DataFrame()\n",
    "#df_crypto_price [\"BTC\"] = btc_data[\"data\"][\"1\"][\"quotes\"][\"CAD\"][\"price\"]\n",
    "#df_crypto_price [\"ETH\"] = eth_data[\"data\"][\"1027\"][\"quotes\"][\"CAD\"][\"price\"]\n",
    "#df_crypto_price.index = df_crypto_price.index.date\n",
    "#df_crypto_price.head()"
   ]
  },
  {
   "cell_type": "code",
   "execution_count": 16,
   "metadata": {},
   "outputs": [
    {
     "data": {
      "text/html": [
       "<div>\n",
       "<style scoped>\n",
       "    .dataframe tbody tr th:only-of-type {\n",
       "        vertical-align: middle;\n",
       "    }\n",
       "\n",
       "    .dataframe tbody tr th {\n",
       "        vertical-align: top;\n",
       "    }\n",
       "\n",
       "    .dataframe thead th {\n",
       "        text-align: right;\n",
       "    }\n",
       "</style>\n",
       "<table border=\"1\" class=\"dataframe\">\n",
       "  <thead>\n",
       "    <tr style=\"text-align: right;\">\n",
       "      <th></th>\n",
       "      <th>QTY</th>\n",
       "      <th>Price</th>\n",
       "    </tr>\n",
       "  </thead>\n",
       "  <tbody>\n",
       "    <tr>\n",
       "      <th>BTC</th>\n",
       "      <td>1.2</td>\n",
       "      <td>62793.530800</td>\n",
       "    </tr>\n",
       "    <tr>\n",
       "      <th>ETH</th>\n",
       "      <td>5.3</td>\n",
       "      <td>5333.474058</td>\n",
       "    </tr>\n",
       "  </tbody>\n",
       "</table>\n",
       "</div>"
      ],
      "text/plain": [
       "     QTY         Price\n",
       "BTC  1.2  62793.530800\n",
       "ETH  5.3   5333.474058"
      ]
     },
     "execution_count": 16,
     "metadata": {},
     "output_type": "execute_result"
    }
   ],
   "source": [
    "crypto_asset_data = {\n",
    "    \"QTY\": [1.2, 5.3],\n",
    "    \"Price\": [btc_data[\"data\"][\"1\"][\"quotes\"][\"CAD\"][\"price\"], eth_data[\"data\"][\"1027\"][\"quotes\"][\"CAD\"][\"price\"] ]\n",
    "}\n",
    "\n",
    "# Set the tickers\n",
    "tickers = [\"BTC\", \"ETH\"]\n",
    "\n",
    "# Create the shares DataFrame with `tickers` as index\n",
    "df_crypto_asset = pd.DataFrame(crypto_asset_data, index=tickers)\n",
    "\n",
    "# Display shares data\n",
    "df_crypto_asset"
   ]
  },
  {
   "cell_type": "code",
   "execution_count": 17,
   "metadata": {},
   "outputs": [
    {
     "data": {
      "text/plain": [
       "5333.474058"
      ]
     },
     "execution_count": 17,
     "metadata": {},
     "output_type": "execute_result"
    }
   ],
   "source": [
    "df_crypto_asset.loc[\"ETH\"][\"Price\"]"
   ]
  },
  {
   "cell_type": "code",
   "execution_count": 18,
   "metadata": {},
   "outputs": [],
   "source": [
    "# Compute current value of my crpto\n",
    "my_btc = float(df_crypto_asset.loc[\"BTC\"][\"QTY\"])\n",
    "my_btc_value = float(df_crypto_asset.loc[\"BTC\"][\"Price\"] * my_btc)\n",
    "\n",
    "my_eth = float(df_crypto_asset.loc[\"ETH\"][\"QTY\"])\n",
    "my_eth_value = float(df_crypto_asset.loc[\"ETH\"][\"Price\"] * my_eth)"
   ]
  },
  {
   "cell_type": "code",
   "execution_count": 19,
   "metadata": {},
   "outputs": [
    {
     "name": "stdout",
     "output_type": "stream",
     "text": [
      "The current value of your 1.2 BTC is $75,352.24\n",
      "The current value of your 5.3 ETH is $28,267.41\n"
     ]
    }
   ],
   "source": [
    "#Print current crypto wallet balance\n",
    "print(f\"The current value of your {my_btc} BTC is ${my_btc_value:,.2f}\")\n",
    "print(f\"The current value of your {my_eth} ETH is ${my_eth_value:,.2f}\")"
   ]
  },
  {
   "cell_type": "markdown",
   "metadata": {},
   "source": [
    "### Collect Investments Data Using Alpaca: `SPY` (stocks) and `AGG` (bonds)"
   ]
  },
  {
   "cell_type": "code",
   "execution_count": 20,
   "metadata": {},
   "outputs": [
    {
     "data": {
      "text/html": [
       "<div>\n",
       "<style scoped>\n",
       "    .dataframe tbody tr th:only-of-type {\n",
       "        vertical-align: middle;\n",
       "    }\n",
       "\n",
       "    .dataframe tbody tr th {\n",
       "        vertical-align: top;\n",
       "    }\n",
       "\n",
       "    .dataframe thead th {\n",
       "        text-align: right;\n",
       "    }\n",
       "</style>\n",
       "<table border=\"1\" class=\"dataframe\">\n",
       "  <thead>\n",
       "    <tr style=\"text-align: right;\">\n",
       "      <th></th>\n",
       "      <th>QTY</th>\n",
       "    </tr>\n",
       "  </thead>\n",
       "  <tbody>\n",
       "    <tr>\n",
       "      <th>AGG</th>\n",
       "      <td>201</td>\n",
       "    </tr>\n",
       "    <tr>\n",
       "      <th>SPY</th>\n",
       "      <td>51</td>\n",
       "    </tr>\n",
       "  </tbody>\n",
       "</table>\n",
       "</div>"
      ],
      "text/plain": [
       "     QTY\n",
       "AGG  201\n",
       "SPY   51"
      ]
     },
     "execution_count": 20,
     "metadata": {},
     "output_type": "execute_result"
    }
   ],
   "source": [
    "# Set current amount of shares\n",
    "#my_agg = 200\n",
    "#my_spy = 50\n",
    "\n",
    "shares_data = {\n",
    "    \"QTY\": [201, 51]\n",
    "}   \n",
    "\n",
    "# Set the tickers\n",
    "share_tickers = [\"AGG\", \"SPY\"]\n",
    "\n",
    "# Create the shares DataFrame with `tickers` as index\n",
    "df_share_data = pd.DataFrame(shares_data, index=share_tickers)\n",
    "\n",
    "df_share_data"
   ]
  },
  {
   "cell_type": "code",
   "execution_count": 21,
   "metadata": {},
   "outputs": [],
   "source": [
    "# Set Alpaca API key and secret\n",
    "alpaca_api_key = os.getenv(\"ALPACA_API_KEY\")\n",
    "alpaca_secret_key = os.getenv(\"ALPACA_SECRET_KEY\")\n",
    "\n",
    "alpaca = tradeapi.REST(\n",
    "    alpaca_api_key,\n",
    "    alpaca_secret_key,\n",
    "    api_version = \"v2\"\n",
    ")\n",
    "\n",
    "# Create the Alpaca API object\n",
    "# YOUR CODE HERE!"
   ]
  },
  {
   "cell_type": "code",
   "execution_count": 22,
   "metadata": {},
   "outputs": [
    {
     "data": {
      "text/html": [
       "<div>\n",
       "<style scoped>\n",
       "    .dataframe tbody tr th:only-of-type {\n",
       "        vertical-align: middle;\n",
       "    }\n",
       "\n",
       "    .dataframe tbody tr th {\n",
       "        vertical-align: top;\n",
       "    }\n",
       "\n",
       "    .dataframe thead tr th {\n",
       "        text-align: left;\n",
       "    }\n",
       "\n",
       "    .dataframe thead tr:last-of-type th {\n",
       "        text-align: right;\n",
       "    }\n",
       "</style>\n",
       "<table border=\"1\" class=\"dataframe\">\n",
       "  <thead>\n",
       "    <tr>\n",
       "      <th></th>\n",
       "      <th colspan=\"5\" halign=\"left\">AGG</th>\n",
       "      <th colspan=\"5\" halign=\"left\">SPY</th>\n",
       "    </tr>\n",
       "    <tr>\n",
       "      <th></th>\n",
       "      <th>open</th>\n",
       "      <th>high</th>\n",
       "      <th>low</th>\n",
       "      <th>close</th>\n",
       "      <th>volume</th>\n",
       "      <th>open</th>\n",
       "      <th>high</th>\n",
       "      <th>low</th>\n",
       "      <th>close</th>\n",
       "      <th>volume</th>\n",
       "    </tr>\n",
       "    <tr>\n",
       "      <th>time</th>\n",
       "      <th></th>\n",
       "      <th></th>\n",
       "      <th></th>\n",
       "      <th></th>\n",
       "      <th></th>\n",
       "      <th></th>\n",
       "      <th></th>\n",
       "      <th></th>\n",
       "      <th></th>\n",
       "      <th></th>\n",
       "    </tr>\n",
       "  </thead>\n",
       "  <tbody>\n",
       "    <tr>\n",
       "      <th>2021-12-02 00:00:00-05:00</th>\n",
       "      <td>114.67</td>\n",
       "      <td>114.79</td>\n",
       "      <td>114.4001</td>\n",
       "      <td>114.61</td>\n",
       "      <td>7507924</td>\n",
       "      <td>450.72</td>\n",
       "      <td>459.07</td>\n",
       "      <td>450.31</td>\n",
       "      <td>457.38</td>\n",
       "      <td>109873511</td>\n",
       "    </tr>\n",
       "  </tbody>\n",
       "</table>\n",
       "</div>"
      ],
      "text/plain": [
       "                              AGG                                        SPY  \\\n",
       "                             open    high       low   close   volume    open   \n",
       "time                                                                           \n",
       "2021-12-02 00:00:00-05:00  114.67  114.79  114.4001  114.61  7507924  450.72   \n",
       "\n",
       "                                                              \n",
       "                             high     low   close     volume  \n",
       "time                                                          \n",
       "2021-12-02 00:00:00-05:00  459.07  450.31  457.38  109873511  "
      ]
     },
     "execution_count": 22,
     "metadata": {},
     "output_type": "execute_result"
    }
   ],
   "source": [
    "# Format current date as ISO format\n",
    "today = pd.Timestamp(\"2021-12-02\", tz=\"America/New_York\").isoformat()\n",
    "\n",
    "# Set the tickers\n",
    "tickers = [\"AGG\", \"SPY\"]\n",
    "\n",
    "# Set timeframe to '1D' for Alpaca API\n",
    "timeframe = \"1D\"\n",
    "\n",
    "# Get current closing prices for SPY and AGG\n",
    "# (use a limit=1000 parameter to call the most recent 1000 days of data)\n",
    "df_ticker = alpaca.get_barset(\n",
    "    tickers,\n",
    "    timeframe,\n",
    "    start=today,\n",
    "    end=today,\n",
    "    limit = 1000\n",
    ").df\n",
    "\n",
    "# Preview DataFrame\n",
    "df_ticker.head()"
   ]
  },
  {
   "cell_type": "code",
   "execution_count": 23,
   "metadata": {},
   "outputs": [
    {
     "data": {
      "text/html": [
       "<div>\n",
       "<style scoped>\n",
       "    .dataframe tbody tr th:only-of-type {\n",
       "        vertical-align: middle;\n",
       "    }\n",
       "\n",
       "    .dataframe tbody tr th {\n",
       "        vertical-align: top;\n",
       "    }\n",
       "\n",
       "    .dataframe thead th {\n",
       "        text-align: right;\n",
       "    }\n",
       "</style>\n",
       "<table border=\"1\" class=\"dataframe\">\n",
       "  <thead>\n",
       "    <tr style=\"text-align: right;\">\n",
       "      <th></th>\n",
       "      <th>AGG</th>\n",
       "      <th>SPY</th>\n",
       "    </tr>\n",
       "  </thead>\n",
       "  <tbody>\n",
       "    <tr>\n",
       "      <th>2021-12-02</th>\n",
       "      <td>114.61</td>\n",
       "      <td>457.38</td>\n",
       "    </tr>\n",
       "  </tbody>\n",
       "</table>\n",
       "</div>"
      ],
      "text/plain": [
       "               AGG     SPY\n",
       "2021-12-02  114.61  457.38"
      ]
     },
     "execution_count": 23,
     "metadata": {},
     "output_type": "execute_result"
    }
   ],
   "source": [
    "# Pick AGG and SPY close prices\n",
    "df_share_prices = pd.DataFrame()\n",
    "df_share_prices[\"AGG\"] = df_ticker[\"AGG\"][\"close\"]\n",
    "df_share_prices[\"SPY\"] = df_ticker[\"SPY\"][\"close\"]\n",
    "df_share_prices.index = df_share_prices.index.date\n",
    "df_share_prices.head()\n",
    "\n"
   ]
  },
  {
   "cell_type": "code",
   "execution_count": 24,
   "metadata": {},
   "outputs": [
    {
     "name": "stdout",
     "output_type": "stream",
     "text": [
      "Current AGG closing price: $114.61\n",
      "Current SPY closing price: $457.38\n"
     ]
    }
   ],
   "source": [
    "# Print AGG and SPY close prices\n",
    "agg_close_price = float(df_share_prices[\"AGG\"])\n",
    "spy_close_price = float(df_share_prices[\"SPY\"])\n",
    "\n",
    "print(f\"Current AGG closing price: ${agg_close_price}\")\n",
    "print(f\"Current SPY closing price: ${spy_close_price}\")"
   ]
  },
  {
   "cell_type": "code",
   "execution_count": 25,
   "metadata": {},
   "outputs": [],
   "source": [
    "# Compute the current value of shares\n",
    "my_spy = float(df_share_data.loc[\"SPY\"])\n",
    "my_spy_value = float(df_share_prices[\"SPY\"] * my_spy)\n",
    "\n",
    "my_agg = float(df_share_data.loc[\"AGG\"])\n",
    "my_agg_value = float(df_share_prices[\"AGG\"] * my_agg)"
   ]
  },
  {
   "cell_type": "code",
   "execution_count": 26,
   "metadata": {},
   "outputs": [
    {
     "name": "stdout",
     "output_type": "stream",
     "text": [
      "The current value of your 51.0 SPY shares is $23,326.38\n",
      "The current value of your 201.0 AGG shares is $23,036.61\n"
     ]
    }
   ],
   "source": [
    "\n",
    "#my_agg = float(df_share_qty.loc[\"AGG\"])\n",
    "#my_agg_value = round(float(df_share_prices[\"AGG\"] * my_agg                          \n",
    "\n",
    "#my_spy_value = spy_close_price * my_spy\n",
    "#my_agg_value = agg_close_price * my_agg\n",
    "\n",
    "# Print current value of shares\n",
    "print(f\"The current value of your {my_spy} SPY shares is ${my_spy_value:,.2f}\")\n",
    "print(f\"The current value of your {my_agg} AGG shares is ${my_agg_value:,.2f}\")"
   ]
  },
  {
   "cell_type": "markdown",
   "metadata": {},
   "source": [
    "### Savings Health Analysis"
   ]
  },
  {
   "cell_type": "code",
   "execution_count": 27,
   "metadata": {},
   "outputs": [],
   "source": [
    "# Set monthly household income\n",
    "monthly_income = 12000"
   ]
  },
  {
   "cell_type": "code",
   "execution_count": 28,
   "metadata": {},
   "outputs": [
    {
     "data": {
      "text/html": [
       "<div>\n",
       "<style scoped>\n",
       "    .dataframe tbody tr th:only-of-type {\n",
       "        vertical-align: middle;\n",
       "    }\n",
       "\n",
       "    .dataframe tbody tr th {\n",
       "        vertical-align: top;\n",
       "    }\n",
       "\n",
       "    .dataframe thead th {\n",
       "        text-align: right;\n",
       "    }\n",
       "</style>\n",
       "<table border=\"1\" class=\"dataframe\">\n",
       "  <thead>\n",
       "    <tr style=\"text-align: right;\">\n",
       "      <th></th>\n",
       "      <th>Amount</th>\n",
       "    </tr>\n",
       "  </thead>\n",
       "  <tbody>\n",
       "    <tr>\n",
       "      <th>Crypto</th>\n",
       "      <td>103619.65</td>\n",
       "    </tr>\n",
       "    <tr>\n",
       "      <th>Shares</th>\n",
       "      <td>46362.99</td>\n",
       "    </tr>\n",
       "  </tbody>\n",
       "</table>\n",
       "</div>"
      ],
      "text/plain": [
       "           Amount\n",
       "Crypto  103619.65\n",
       "Shares   46362.99"
      ]
     },
     "execution_count": 28,
     "metadata": {},
     "output_type": "execute_result"
    }
   ],
   "source": [
    "# Consolidate financial assets data\n",
    "df_savings = pd.DataFrame(columns = [\"Amount\"], index = [\"Crypto\", \"Shares\"])\n",
    "df_savings.loc[\"Crypto\"] = round(my_btc_value + my_eth_value,2)\n",
    "df_savings.loc[\"Shares\"] = round(my_agg_value + my_spy_value,2)\n",
    "\n",
    "df_savings.head()\n",
    "\n",
    "# Create savings DataFrame\n",
    "# YOUR CODE HERE!\n",
    "\n",
    "# Display savings DataFrame\n",
    "#display(df_savings)"
   ]
  },
  {
   "cell_type": "code",
   "execution_count": 29,
   "metadata": {},
   "outputs": [
    {
     "data": {
      "text/plain": [
       "<AxesSubplot:title={'center':'Portfolio Composition'}, ylabel='Amount'>"
      ]
     },
     "execution_count": 29,
     "metadata": {},
     "output_type": "execute_result"
    },
    {
     "data": {
      "image/png": "[encoded data removed]",
      "text/plain": [
       "<Figure size 432x288 with 1 Axes>"
      ]
     },
     "metadata": {},
     "output_type": "display_data"
    }
   ],
   "source": [
    "# Plot savings pie chart\n",
    "df_savings.plot.pie(y=\"Amount\", title=\"Portfolio Composition\", autopct='%1.0f%%')"
   ]
  },
  {
   "cell_type": "code",
   "execution_count": 30,
   "metadata": {},
   "outputs": [
    {
     "name": "stdout",
     "output_type": "stream",
     "text": [
      "Emergency fund should be $36,000.00\n"
     ]
    }
   ],
   "source": [
    "# Set ideal emergency fund\n",
    "emergency_fund = monthly_income * 3\n",
    "print(f\"Emergency fund should be ${emergency_fund:,.2f}\")"
   ]
  },
  {
   "cell_type": "code",
   "execution_count": 31,
   "metadata": {},
   "outputs": [
    {
     "name": "stdout",
     "output_type": "stream",
     "text": [
      "Total Savings from Assets is $149,982.64\n"
     ]
    }
   ],
   "source": [
    "# Calculate total mount of savings\n",
    "total_savings = float(df_savings.loc[\"Crypto\"] + df_savings.loc[\"Shares\"])\n",
    "print(f\"Total Savings from Assets is ${total_savings:,.2f}\")"
   ]
  },
  {
   "cell_type": "code",
   "execution_count": 32,
   "metadata": {},
   "outputs": [
    {
     "name": "stdout",
     "output_type": "stream",
     "text": [
      "Congratulations! You have enough funds as Emergency Savings\n"
     ]
    }
   ],
   "source": [
    "# Validate saving health\n",
    "if total_savings > emergency_fund:\n",
    "    print(f\"Congratulations! You have enough funds as Emergency Savings\")\n",
    "elif total_savings == emergency_fund:\n",
    "        print(f\"Congratulations! You have achieved your Emergency Savings Goal\")\n",
    "elif total_savings < emergency_fund:\n",
    "        print(f\"You need to save ${total_savings - emergency_fund:,.2f} to achieve the Emergency Savings Goal\")\n",
    "        "
   ]
  },
  {
   "cell_type": "markdown",
   "metadata": {},
   "source": [
    "## Part 2 - Retirement Planning\n",
    "\n",
    "### Monte Carlo Simulation"
   ]
  },
  {
   "cell_type": "code",
   "execution_count": 33,
   "metadata": {},
   "outputs": [],
   "source": [
    "# Set start and end dates of five years back from today.\n",
    "# Sample results may vary from the solution based on the time frame chosen\n",
    "start_date = pd.Timestamp('2017-12-01', tz='America/New_York').isoformat()\n",
    "end_date = pd.Timestamp('2021-12-01', tz='America/New_York').isoformat()"
   ]
  },
  {
   "cell_type": "code",
   "execution_count": 34,
   "metadata": {},
   "outputs": [
    {
     "data": {
      "text/html": [
       "<div>\n",
       "<style scoped>\n",
       "    .dataframe tbody tr th:only-of-type {\n",
       "        vertical-align: middle;\n",
       "    }\n",
       "\n",
       "    .dataframe tbody tr th {\n",
       "        vertical-align: top;\n",
       "    }\n",
       "\n",
       "    .dataframe thead tr th {\n",
       "        text-align: left;\n",
       "    }\n",
       "</style>\n",
       "<table border=\"1\" class=\"dataframe\">\n",
       "  <thead>\n",
       "    <tr>\n",
       "      <th></th>\n",
       "      <th colspan=\"5\" halign=\"left\">AGG</th>\n",
       "      <th colspan=\"5\" halign=\"left\">SPY</th>\n",
       "    </tr>\n",
       "    <tr>\n",
       "      <th></th>\n",
       "      <th>open</th>\n",
       "      <th>high</th>\n",
       "      <th>low</th>\n",
       "      <th>close</th>\n",
       "      <th>volume</th>\n",
       "      <th>open</th>\n",
       "      <th>high</th>\n",
       "      <th>low</th>\n",
       "      <th>close</th>\n",
       "      <th>volume</th>\n",
       "    </tr>\n",
       "  </thead>\n",
       "  <tbody>\n",
       "    <tr>\n",
       "      <th>2017-05-10</th>\n",
       "      <td>108.60</td>\n",
       "      <td>108.6600</td>\n",
       "      <td>108.4400</td>\n",
       "      <td>108.520</td>\n",
       "      <td>1427511.0</td>\n",
       "      <td>NaN</td>\n",
       "      <td>NaN</td>\n",
       "      <td>NaN</td>\n",
       "      <td>NaN</td>\n",
       "      <td>NaN</td>\n",
       "    </tr>\n",
       "    <tr>\n",
       "      <th>2017-05-11</th>\n",
       "      <td>108.35</td>\n",
       "      <td>108.5400</td>\n",
       "      <td>108.3435</td>\n",
       "      <td>108.515</td>\n",
       "      <td>1773499.0</td>\n",
       "      <td>239.35</td>\n",
       "      <td>239.57</td>\n",
       "      <td>238.1300</td>\n",
       "      <td>239.410</td>\n",
       "      <td>45435690.0</td>\n",
       "    </tr>\n",
       "    <tr>\n",
       "      <th>2017-05-12</th>\n",
       "      <td>108.81</td>\n",
       "      <td>108.9400</td>\n",
       "      <td>108.7800</td>\n",
       "      <td>108.920</td>\n",
       "      <td>1136553.0</td>\n",
       "      <td>239.09</td>\n",
       "      <td>239.21</td>\n",
       "      <td>238.6700</td>\n",
       "      <td>239.030</td>\n",
       "      <td>35283567.0</td>\n",
       "    </tr>\n",
       "    <tr>\n",
       "      <th>2017-05-15</th>\n",
       "      <td>108.85</td>\n",
       "      <td>108.9400</td>\n",
       "      <td>108.8200</td>\n",
       "      <td>108.890</td>\n",
       "      <td>1620264.0</td>\n",
       "      <td>239.47</td>\n",
       "      <td>240.44</td>\n",
       "      <td>239.4500</td>\n",
       "      <td>240.245</td>\n",
       "      <td>42230620.0</td>\n",
       "    </tr>\n",
       "    <tr>\n",
       "      <th>2017-05-16</th>\n",
       "      <td>108.88</td>\n",
       "      <td>109.1010</td>\n",
       "      <td>108.8800</td>\n",
       "      <td>109.000</td>\n",
       "      <td>1394153.0</td>\n",
       "      <td>240.62</td>\n",
       "      <td>240.67</td>\n",
       "      <td>239.6300</td>\n",
       "      <td>240.100</td>\n",
       "      <td>37206183.0</td>\n",
       "    </tr>\n",
       "    <tr>\n",
       "      <th>...</th>\n",
       "      <td>...</td>\n",
       "      <td>...</td>\n",
       "      <td>...</td>\n",
       "      <td>...</td>\n",
       "      <td>...</td>\n",
       "      <td>...</td>\n",
       "      <td>...</td>\n",
       "      <td>...</td>\n",
       "      <td>...</td>\n",
       "      <td>...</td>\n",
       "    </tr>\n",
       "    <tr>\n",
       "      <th>2021-04-23</th>\n",
       "      <td>114.81</td>\n",
       "      <td>115.0860</td>\n",
       "      <td>114.6415</td>\n",
       "      <td>114.750</td>\n",
       "      <td>3506457.0</td>\n",
       "      <td>412.87</td>\n",
       "      <td>418.25</td>\n",
       "      <td>412.7900</td>\n",
       "      <td>416.720</td>\n",
       "      <td>62186191.0</td>\n",
       "    </tr>\n",
       "    <tr>\n",
       "      <th>2021-04-26</th>\n",
       "      <td>114.74</td>\n",
       "      <td>114.8015</td>\n",
       "      <td>114.6500</td>\n",
       "      <td>114.650</td>\n",
       "      <td>2867784.0</td>\n",
       "      <td>417.44</td>\n",
       "      <td>418.22</td>\n",
       "      <td>416.8111</td>\n",
       "      <td>417.640</td>\n",
       "      <td>44689009.0</td>\n",
       "    </tr>\n",
       "    <tr>\n",
       "      <th>2021-04-27</th>\n",
       "      <td>115.13</td>\n",
       "      <td>115.1300</td>\n",
       "      <td>114.3700</td>\n",
       "      <td>114.370</td>\n",
       "      <td>3421667.0</td>\n",
       "      <td>417.91</td>\n",
       "      <td>418.14</td>\n",
       "      <td>416.3000</td>\n",
       "      <td>417.480</td>\n",
       "      <td>45962264.0</td>\n",
       "    </tr>\n",
       "    <tr>\n",
       "      <th>2021-04-28</th>\n",
       "      <td>114.45</td>\n",
       "      <td>114.4685</td>\n",
       "      <td>114.2000</td>\n",
       "      <td>114.440</td>\n",
       "      <td>6185936.0</td>\n",
       "      <td>417.81</td>\n",
       "      <td>419.01</td>\n",
       "      <td>416.9000</td>\n",
       "      <td>417.350</td>\n",
       "      <td>45533863.0</td>\n",
       "    </tr>\n",
       "    <tr>\n",
       "      <th>2021-04-29</th>\n",
       "      <td>114.14</td>\n",
       "      <td>114.3700</td>\n",
       "      <td>114.0900</td>\n",
       "      <td>114.370</td>\n",
       "      <td>5796983.0</td>\n",
       "      <td>420.33</td>\n",
       "      <td>420.72</td>\n",
       "      <td>416.4400</td>\n",
       "      <td>419.990</td>\n",
       "      <td>70607144.0</td>\n",
       "    </tr>\n",
       "  </tbody>\n",
       "</table>\n",
       "<p>1000 rows × 10 columns</p>\n",
       "</div>"
      ],
      "text/plain": [
       "               AGG                                             SPY          \\\n",
       "              open      high       low    close     volume    open    high   \n",
       "2017-05-10  108.60  108.6600  108.4400  108.520  1427511.0     NaN     NaN   \n",
       "2017-05-11  108.35  108.5400  108.3435  108.515  1773499.0  239.35  239.57   \n",
       "2017-05-12  108.81  108.9400  108.7800  108.920  1136553.0  239.09  239.21   \n",
       "2017-05-15  108.85  108.9400  108.8200  108.890  1620264.0  239.47  240.44   \n",
       "2017-05-16  108.88  109.1010  108.8800  109.000  1394153.0  240.62  240.67   \n",
       "...            ...       ...       ...      ...        ...     ...     ...   \n",
       "2021-04-23  114.81  115.0860  114.6415  114.750  3506457.0  412.87  418.25   \n",
       "2021-04-26  114.74  114.8015  114.6500  114.650  2867784.0  417.44  418.22   \n",
       "2021-04-27  115.13  115.1300  114.3700  114.370  3421667.0  417.91  418.14   \n",
       "2021-04-28  114.45  114.4685  114.2000  114.440  6185936.0  417.81  419.01   \n",
       "2021-04-29  114.14  114.3700  114.0900  114.370  5796983.0  420.33  420.72   \n",
       "\n",
       "                                           \n",
       "                 low    close      volume  \n",
       "2017-05-10       NaN      NaN         NaN  \n",
       "2017-05-11  238.1300  239.410  45435690.0  \n",
       "2017-05-12  238.6700  239.030  35283567.0  \n",
       "2017-05-15  239.4500  240.245  42230620.0  \n",
       "2017-05-16  239.6300  240.100  37206183.0  \n",
       "...              ...      ...         ...  \n",
       "2021-04-23  412.7900  416.720  62186191.0  \n",
       "2021-04-26  416.8111  417.640  44689009.0  \n",
       "2021-04-27  416.3000  417.480  45962264.0  \n",
       "2021-04-28  416.9000  417.350  45533863.0  \n",
       "2021-04-29  416.4400  419.990  70607144.0  \n",
       "\n",
       "[1000 rows x 10 columns]"
      ]
     },
     "execution_count": 34,
     "metadata": {},
     "output_type": "execute_result"
    }
   ],
   "source": [
    "# Get 5 years' worth of historical data for SPY and AGG\n",
    "# (use a limit=1000 parameter to call the most recent 1000 days of data)\n",
    "# Set timeframe to '1D'\n",
    "timeframe = \"1D\"\n",
    "\n",
    "# Set start and end datetimes between now and 5 years ago.\n",
    "start_date = pd.Timestamp(\"2017-05-01\", tz=\"America/New_York\").isoformat()\n",
    "end_date = pd.Timestamp(\"2021-05-01\", tz=\"America/New_York\").isoformat()\n",
    "\n",
    "# Set the ticker information\n",
    "ticker = [\"AGG\",\"SPY\"]\n",
    "\n",
    "# Get approximately 4 year's worth of historical price data\n",
    "df_stock_data = alpaca.get_barset(\n",
    "    ticker,\n",
    "    timeframe,\n",
    "    start=start_date,\n",
    "    end=end_date,\n",
    "    limit = 1000\n",
    ").df\n",
    "\n",
    "# Drop the time component of the date\n",
    "df_stock_data.index = df_stock_data.index.date\n",
    "\n",
    "# Display sample data\n",
    "df_stock_data.head(-1)"
   ]
  },
  {
   "cell_type": "code",
   "execution_count": 35,
   "metadata": {},
   "outputs": [
    {
     "data": {
      "text/html": [
       "<div>\n",
       "<style scoped>\n",
       "    .dataframe tbody tr th:only-of-type {\n",
       "        vertical-align: middle;\n",
       "    }\n",
       "\n",
       "    .dataframe tbody tr th {\n",
       "        vertical-align: top;\n",
       "    }\n",
       "\n",
       "    .dataframe thead tr th {\n",
       "        text-align: left;\n",
       "    }\n",
       "</style>\n",
       "<table border=\"1\" class=\"dataframe\">\n",
       "  <thead>\n",
       "    <tr>\n",
       "      <th></th>\n",
       "      <th colspan=\"6\" halign=\"left\">AGG</th>\n",
       "      <th colspan=\"6\" halign=\"left\">SPY</th>\n",
       "    </tr>\n",
       "    <tr>\n",
       "      <th></th>\n",
       "      <th>open</th>\n",
       "      <th>high</th>\n",
       "      <th>low</th>\n",
       "      <th>close</th>\n",
       "      <th>volume</th>\n",
       "      <th>daily_return</th>\n",
       "      <th>open</th>\n",
       "      <th>high</th>\n",
       "      <th>low</th>\n",
       "      <th>close</th>\n",
       "      <th>volume</th>\n",
       "      <th>daily_return</th>\n",
       "    </tr>\n",
       "  </thead>\n",
       "  <tbody>\n",
       "    <tr>\n",
       "      <th>2017-05-10</th>\n",
       "      <td>108.60</td>\n",
       "      <td>108.6600</td>\n",
       "      <td>108.4400</td>\n",
       "      <td>108.520</td>\n",
       "      <td>1427511.0</td>\n",
       "      <td>NaN</td>\n",
       "      <td>NaN</td>\n",
       "      <td>NaN</td>\n",
       "      <td>NaN</td>\n",
       "      <td>NaN</td>\n",
       "      <td>NaN</td>\n",
       "      <td>NaN</td>\n",
       "    </tr>\n",
       "    <tr>\n",
       "      <th>2017-05-11</th>\n",
       "      <td>108.35</td>\n",
       "      <td>108.5400</td>\n",
       "      <td>108.3435</td>\n",
       "      <td>108.515</td>\n",
       "      <td>1773499.0</td>\n",
       "      <td>-0.000046</td>\n",
       "      <td>239.35</td>\n",
       "      <td>239.57</td>\n",
       "      <td>238.1300</td>\n",
       "      <td>239.410</td>\n",
       "      <td>45435690.0</td>\n",
       "      <td>NaN</td>\n",
       "    </tr>\n",
       "    <tr>\n",
       "      <th>2017-05-12</th>\n",
       "      <td>108.81</td>\n",
       "      <td>108.9400</td>\n",
       "      <td>108.7800</td>\n",
       "      <td>108.920</td>\n",
       "      <td>1136553.0</td>\n",
       "      <td>0.003732</td>\n",
       "      <td>239.09</td>\n",
       "      <td>239.21</td>\n",
       "      <td>238.6700</td>\n",
       "      <td>239.030</td>\n",
       "      <td>35283567.0</td>\n",
       "      <td>-0.001587</td>\n",
       "    </tr>\n",
       "    <tr>\n",
       "      <th>2017-05-15</th>\n",
       "      <td>108.85</td>\n",
       "      <td>108.9400</td>\n",
       "      <td>108.8200</td>\n",
       "      <td>108.890</td>\n",
       "      <td>1620264.0</td>\n",
       "      <td>-0.000275</td>\n",
       "      <td>239.47</td>\n",
       "      <td>240.44</td>\n",
       "      <td>239.4500</td>\n",
       "      <td>240.245</td>\n",
       "      <td>42230620.0</td>\n",
       "      <td>0.005083</td>\n",
       "    </tr>\n",
       "    <tr>\n",
       "      <th>2017-05-16</th>\n",
       "      <td>108.88</td>\n",
       "      <td>109.1010</td>\n",
       "      <td>108.8800</td>\n",
       "      <td>109.000</td>\n",
       "      <td>1394153.0</td>\n",
       "      <td>0.001010</td>\n",
       "      <td>240.62</td>\n",
       "      <td>240.67</td>\n",
       "      <td>239.6300</td>\n",
       "      <td>240.100</td>\n",
       "      <td>37206183.0</td>\n",
       "      <td>-0.000604</td>\n",
       "    </tr>\n",
       "    <tr>\n",
       "      <th>...</th>\n",
       "      <td>...</td>\n",
       "      <td>...</td>\n",
       "      <td>...</td>\n",
       "      <td>...</td>\n",
       "      <td>...</td>\n",
       "      <td>...</td>\n",
       "      <td>...</td>\n",
       "      <td>...</td>\n",
       "      <td>...</td>\n",
       "      <td>...</td>\n",
       "      <td>...</td>\n",
       "      <td>...</td>\n",
       "    </tr>\n",
       "    <tr>\n",
       "      <th>2021-04-23</th>\n",
       "      <td>114.81</td>\n",
       "      <td>115.0860</td>\n",
       "      <td>114.6415</td>\n",
       "      <td>114.750</td>\n",
       "      <td>3506457.0</td>\n",
       "      <td>-0.000174</td>\n",
       "      <td>412.87</td>\n",
       "      <td>418.25</td>\n",
       "      <td>412.7900</td>\n",
       "      <td>416.720</td>\n",
       "      <td>62186191.0</td>\n",
       "      <td>0.010720</td>\n",
       "    </tr>\n",
       "    <tr>\n",
       "      <th>2021-04-26</th>\n",
       "      <td>114.74</td>\n",
       "      <td>114.8015</td>\n",
       "      <td>114.6500</td>\n",
       "      <td>114.650</td>\n",
       "      <td>2867784.0</td>\n",
       "      <td>-0.000871</td>\n",
       "      <td>417.44</td>\n",
       "      <td>418.22</td>\n",
       "      <td>416.8111</td>\n",
       "      <td>417.640</td>\n",
       "      <td>44689009.0</td>\n",
       "      <td>0.002208</td>\n",
       "    </tr>\n",
       "    <tr>\n",
       "      <th>2021-04-27</th>\n",
       "      <td>115.13</td>\n",
       "      <td>115.1300</td>\n",
       "      <td>114.3700</td>\n",
       "      <td>114.370</td>\n",
       "      <td>3421667.0</td>\n",
       "      <td>-0.002442</td>\n",
       "      <td>417.91</td>\n",
       "      <td>418.14</td>\n",
       "      <td>416.3000</td>\n",
       "      <td>417.480</td>\n",
       "      <td>45962264.0</td>\n",
       "      <td>-0.000383</td>\n",
       "    </tr>\n",
       "    <tr>\n",
       "      <th>2021-04-28</th>\n",
       "      <td>114.45</td>\n",
       "      <td>114.4685</td>\n",
       "      <td>114.2000</td>\n",
       "      <td>114.440</td>\n",
       "      <td>6185936.0</td>\n",
       "      <td>0.000612</td>\n",
       "      <td>417.81</td>\n",
       "      <td>419.01</td>\n",
       "      <td>416.9000</td>\n",
       "      <td>417.350</td>\n",
       "      <td>45533863.0</td>\n",
       "      <td>-0.000311</td>\n",
       "    </tr>\n",
       "    <tr>\n",
       "      <th>2021-04-29</th>\n",
       "      <td>114.14</td>\n",
       "      <td>114.3700</td>\n",
       "      <td>114.0900</td>\n",
       "      <td>114.370</td>\n",
       "      <td>5796983.0</td>\n",
       "      <td>-0.000612</td>\n",
       "      <td>420.33</td>\n",
       "      <td>420.72</td>\n",
       "      <td>416.4400</td>\n",
       "      <td>419.990</td>\n",
       "      <td>70607144.0</td>\n",
       "      <td>0.006326</td>\n",
       "    </tr>\n",
       "  </tbody>\n",
       "</table>\n",
       "<p>1000 rows × 12 columns</p>\n",
       "</div>"
      ],
      "text/plain": [
       "               AGG                                                       \\\n",
       "              open      high       low    close     volume daily_return   \n",
       "2017-05-10  108.60  108.6600  108.4400  108.520  1427511.0          NaN   \n",
       "2017-05-11  108.35  108.5400  108.3435  108.515  1773499.0    -0.000046   \n",
       "2017-05-12  108.81  108.9400  108.7800  108.920  1136553.0     0.003732   \n",
       "2017-05-15  108.85  108.9400  108.8200  108.890  1620264.0    -0.000275   \n",
       "2017-05-16  108.88  109.1010  108.8800  109.000  1394153.0     0.001010   \n",
       "...            ...       ...       ...      ...        ...          ...   \n",
       "2021-04-23  114.81  115.0860  114.6415  114.750  3506457.0    -0.000174   \n",
       "2021-04-26  114.74  114.8015  114.6500  114.650  2867784.0    -0.000871   \n",
       "2021-04-27  115.13  115.1300  114.3700  114.370  3421667.0    -0.002442   \n",
       "2021-04-28  114.45  114.4685  114.2000  114.440  6185936.0     0.000612   \n",
       "2021-04-29  114.14  114.3700  114.0900  114.370  5796983.0    -0.000612   \n",
       "\n",
       "               SPY                                                      \n",
       "              open    high       low    close      volume daily_return  \n",
       "2017-05-10     NaN     NaN       NaN      NaN         NaN          NaN  \n",
       "2017-05-11  239.35  239.57  238.1300  239.410  45435690.0          NaN  \n",
       "2017-05-12  239.09  239.21  238.6700  239.030  35283567.0    -0.001587  \n",
       "2017-05-15  239.47  240.44  239.4500  240.245  42230620.0     0.005083  \n",
       "2017-05-16  240.62  240.67  239.6300  240.100  37206183.0    -0.000604  \n",
       "...            ...     ...       ...      ...         ...          ...  \n",
       "2021-04-23  412.87  418.25  412.7900  416.720  62186191.0     0.010720  \n",
       "2021-04-26  417.44  418.22  416.8111  417.640  44689009.0     0.002208  \n",
       "2021-04-27  417.91  418.14  416.3000  417.480  45962264.0    -0.000383  \n",
       "2021-04-28  417.81  419.01  416.9000  417.350  45533863.0    -0.000311  \n",
       "2021-04-29  420.33  420.72  416.4400  419.990  70607144.0     0.006326  \n",
       "\n",
       "[1000 rows x 12 columns]"
      ]
     },
     "execution_count": 35,
     "metadata": {},
     "output_type": "execute_result"
    }
   ],
   "source": [
    "# Configuring a Monte Carlo simulation to forecast 30 years cumulative returns\n",
    "stock_30year = MCSimulation(\n",
    "    portfolio_data = df_stock_data,\n",
    "    weights = [.40,.60],\n",
    "    num_simulation = 500,\n",
    "    num_trading_days = 252*30\n",
    ")\n",
    "\n",
    "# Printing the simulation input data\n",
    "stock_30year.portfolio_data.head(-1)"
   ]
  },
  {
   "cell_type": "code",
   "execution_count": null,
   "metadata": {},
   "outputs": [
    {
     "name": "stdout",
     "output_type": "stream",
     "text": [
      "Running Monte Carlo simulation number 0.\n",
      "Running Monte Carlo simulation number 10.\n",
      "Running Monte Carlo simulation number 20.\n",
      "Running Monte Carlo simulation number 30.\n"
     ]
    }
   ],
   "source": [
    "# Running a Monte Carlo simulation to forecast 30 years cumulative returns\n",
    "np.random.seed(0)\n",
    "\n",
    "stock_30year.calc_cumulative_return()"
   ]
  },
  {
   "cell_type": "code",
   "execution_count": null,
   "metadata": {},
   "outputs": [],
   "source": [
    "# Plot simulation outcomes\n",
    "line_plot_eq30 = stock_30year.plot_simulation()"
   ]
  },
  {
   "cell_type": "code",
   "execution_count": null,
   "metadata": {},
   "outputs": [],
   "source": [
    "# Plot probability distribution and confidence intervals\n",
    "dist_plot_eq30 = stock_30year.plot_distribution()"
   ]
  },
  {
   "cell_type": "markdown",
   "metadata": {},
   "source": [
    "### Retirement Analysis"
   ]
  },
  {
   "cell_type": "code",
   "execution_count": null,
   "metadata": {},
   "outputs": [],
   "source": [
    "# Fetch summary statistics from the Monte Carlo simulation results\n",
    "stock_summary30 = stock_30year.summarize_cumulative_return()\n",
    "\n",
    "# Print summary statistics\n",
    "print(stock_summary30)"
   ]
  },
  {
   "cell_type": "markdown",
   "metadata": {},
   "source": [
    "### Calculate the expected portfolio return at the `95%` lower and upper confidence intervals based on a `$20,000` initial investment."
   ]
  },
  {
   "cell_type": "code",
   "execution_count": null,
   "metadata": {},
   "outputs": [],
   "source": [
    "# Set initial investment\n",
    "initial_investment = 20000\n",
    "\n",
    "# Use the lower and upper `95%` confidence intervals to calculate the range of the possible outcomes of our $20,000\n",
    "ci_lower1 = stock_summary30[8]*initial_investment\n",
    "ci_upper1 = stock_summary30[9]*initial_investment\n",
    "\n",
    "# Print results\n",
    "print(f\"There is a 95% chance that an initial investment of ${initial_investment:,.2f} in the portfolio\"\n",
    "      f\" over the next 30 years will end within in the range of\"\n",
    "      f\" ${ci_lower1:,.2f} and ${ci_upper1:,.2f}\")"
   ]
  },
  {
   "cell_type": "markdown",
   "metadata": {},
   "source": [
    "### Calculate the expected portfolio return at the `95%` lower and upper confidence intervals based on a `50%` increase in the initial investment."
   ]
  },
  {
   "cell_type": "code",
   "execution_count": null,
   "metadata": {},
   "outputs": [],
   "source": [
    "# Set initial investment\n",
    "higher_initial_investment = 20000 * 1.5\n",
    "\n",
    "# Use the lower and upper `95%` confidence intervals to calculate the range of the possible outcomes of our $30,000\n",
    "ci_lower2 = stock_summary30[8]*higher_initial_investment\n",
    "ci_upper2 = stock_summary30[9]*higher_initial_investment\n",
    "\n",
    "# Print results\n",
    "print(f\"There is a 95% chance that an initial investment of ${higher_initial_investment:,.2f} in the portfolio\"\n",
    "      f\" over the next 30 years will end within in the range of\"\n",
    "      f\" ${ci_lower2:,.2f} and ${ci_upper2:,.2f}\")"
   ]
  },
  {
   "cell_type": "markdown",
   "metadata": {},
   "source": [
    "## Optional Challenge - Early Retirement\n",
    "\n",
    "\n",
    "### Five Years Retirement Option"
   ]
  },
  {
   "cell_type": "code",
   "execution_count": null,
   "metadata": {},
   "outputs": [],
   "source": [
    "# Configuring a Monte Carlo simulation to forecast 5 years cumulative returns\n",
    "stock_5year = MCSimulation(\n",
    "    portfolio_data = df_stock_data,\n",
    "    weights = [.20,.80],\n",
    "    num_simulation = 500,\n",
    "    num_trading_days = 252*5\n",
    ")\n",
    "\n",
    "# Printing the simulation input data\n",
    "stock_5year.portfolio_data.head(-1)"
   ]
  },
  {
   "cell_type": "code",
   "execution_count": null,
   "metadata": {},
   "outputs": [],
   "source": [
    "# Running a Monte Carlo simulation to forecast 5 years cumulative returns\n",
    "np.random.seed(0)\n",
    "\n",
    "stock_5year.calc_cumulative_return()"
   ]
  },
  {
   "cell_type": "code",
   "execution_count": null,
   "metadata": {},
   "outputs": [],
   "source": [
    "# Plot simulation outcomes\n",
    "line_plot_eq5 = stock_5year.plot_simulation()"
   ]
  },
  {
   "cell_type": "code",
   "execution_count": null,
   "metadata": {},
   "outputs": [],
   "source": [
    "# Plot probability distribution and confidence intervals\n",
    "dist_plot_eq5 = stock_5year.plot_distribution()"
   ]
  },
  {
   "cell_type": "code",
   "execution_count": null,
   "metadata": {},
   "outputs": [],
   "source": [
    "# Fetch summary statistics from the Monte Carlo simulation results\n",
    "stock_summary5 = stock_5year.summarize_cumulative_return()\n",
    "\n",
    "# Print summary statistics\n",
    "print(stock_summary5)"
   ]
  },
  {
   "cell_type": "code",
   "execution_count": null,
   "metadata": {},
   "outputs": [],
   "source": [
    "# Set initial investment\n",
    "initial_5_investment = 20000\n",
    "\n",
    "# Use the lower and upper `95%` confidence intervals to calculate the range of the possible outcomes of our $60,000\n",
    "ci_lower_five = stock_summary5[8]*initial_5_investment\n",
    "ci_upper_five = stock_summary5[9]*initial_5_investment\n",
    "\n",
    "# Print results\n",
    "print(f\"There is a 95% chance that an initial investment of ${initial_5_investment:,.2f} in the portfolio\"\n",
    "      f\" over the next 5 years will end within in the range of\"\n",
    "      f\" ${ci_lower_five:,.2f} and ${ci_upper_five:,.2f}\")"
   ]
  },
  {
   "cell_type": "markdown",
   "metadata": {},
   "source": [
    "### Ten Years Retirement Option"
   ]
  },
  {
   "cell_type": "code",
   "execution_count": null,
   "metadata": {},
   "outputs": [],
   "source": [
    "# Configuring a Monte Carlo simulation to forecast 10 years cumulative returns\n",
    "stock_10year = MCSimulation(\n",
    "    portfolio_data = df_stock_data,\n",
    "    weights = [.20,.80],\n",
    "    num_simulation = 500,\n",
    "    num_trading_days = 252*10\n",
    ")\n",
    "\n",
    "# Printing the simulation input data\n",
    "stock_10year.portfolio_data.head(-1)"
   ]
  },
  {
   "cell_type": "code",
   "execution_count": null,
   "metadata": {},
   "outputs": [],
   "source": [
    "# Running a Monte Carlo simulation to forecast 10 years cumulative returns\n",
    "np.random.seed(0)\n",
    "\n",
    "stock_10year.calc_cumulative_return()"
   ]
  },
  {
   "cell_type": "code",
   "execution_count": null,
   "metadata": {},
   "outputs": [],
   "source": [
    "# Plot simulation outcomes\n",
    "line_plot_eq10 = stock_10year.plot_simulation()"
   ]
  },
  {
   "cell_type": "code",
   "execution_count": null,
   "metadata": {},
   "outputs": [],
   "source": [
    "# Plot probability distribution and confidence intervals\n",
    "dist_plot_eq10 = stock_10year.plot_distribution()"
   ]
  },
  {
   "cell_type": "code",
   "execution_count": null,
   "metadata": {},
   "outputs": [],
   "source": [
    "# Fetch summary statistics from the Monte Carlo simulation results\n",
    "stock_summary10 = stock_10year.summarize_cumulative_return()\n",
    "\n",
    "# Print summary statistics\n",
    "print(stock_summary10)"
   ]
  },
  {
   "cell_type": "code",
   "execution_count": null,
   "metadata": {},
   "outputs": [],
   "source": [
    "# Set initial investment\n",
    "# YOUR CODE HERE!\n",
    "initial_10_investment = 20000\n",
    "\n",
    "# Use the lower and upper `95%` confidence intervals to calculate the range of the possible outcomes of our $60,000\n",
    "ci_lower_ten = stock_summary10[8]*initial_10_investment\n",
    "ci_upper_ten = stock_summary10[9]*initial_10_investment\n",
    "\n",
    "# Print results\n",
    "print(f\"There is a 95% chance that an initial investment of ${initial_10_investment:,.2f} in the portfolio\"\n",
    "      f\" over the next 10 years will end within in the range of\"\n",
    "      f\" ${ci_lower_ten:,.2f} and ${ci_upper_ten:,.2f}\")"
   ]
  },
  {
   "cell_type": "code",
   "execution_count": null,
   "metadata": {},
   "outputs": [],
   "source": []
  },
  {
   "cell_type": "code",
   "execution_count": null,
   "metadata": {},
   "outputs": [],
   "source": []
  },
  {
   "cell_type": "code",
   "execution_count": null,
   "metadata": {},
   "outputs": [],
   "source": []
  }
 ],
 "metadata": {
  "kernelspec": {
   "display_name": "Python 3",
   "language": "python",
   "name": "python3"
  },
  "language_info": {
   "codemirror_mode": {
    "name": "ipython",
    "version": 3
   },
   "file_extension": ".py",
   "mimetype": "text/x-python",
   "name": "python",
   "nbconvert_exporter": "python",
   "pygments_lexer": "ipython3",
   "version": "3.8.8"
  },
  "nteract": {
   "version": "0.28.0"
  }
 },
 "nbformat": 4,
 "nbformat_minor": 4
}
